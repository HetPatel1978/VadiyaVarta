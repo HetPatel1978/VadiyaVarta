{
 "cells": [
  {
   "cell_type": "code",
   "execution_count": 1,
   "metadata": {},
   "outputs": [
    {
     "name": "stdout",
     "output_type": "stream",
     "text": [
      "Audio extracted to: output_audio.wav\n",
      "Loading audio file...\n",
      "Converting audio to text...\n",
      "Text extracted successfully!\n",
      "Extracted Text: hello doctor for the past few days I have been feeling very unwell I have been experiencing constant headaches and a feeling of extreme weakness I also have mild fever that comes and goes sometimes I feel dizzy specially when I stand up quickly along with that I have a loss of appetite and my throat feels a bit sir I am not sure what's causing this symptoms and I would like your advice on what to do next\n"
     ]
    }
   ],
   "source": [
    "import ffmpeg\n",
    "import speech_recognition as sr\n",
    "\n",
    "# Function to extract audio from video\n",
    "def extract_audio(video_path, output_audio_path):\n",
    "    try:\n",
    "        (\n",
    "            ffmpeg\n",
    "            .input(video_path)\n",
    "            .output(output_audio_path, format=\"wav\", acodec=\"pcm_s16le\", ac=1, ar=\"16000\")\n",
    "            .run(overwrite_output=True)\n",
    "        )\n",
    "        print(f\"Audio extracted to: {output_audio_path}\")\n",
    "    except ffmpeg.Error as e:\n",
    "        print(\"Error:\", e.stderr.decode())\n",
    "    except FileNotFoundError:\n",
    "        print(\"Error: Video file not found or FFmpeg is not properly installed.\")\n",
    "\n",
    "# Function to extract text from audio\n",
    "def audio_to_text(audio_path):\n",
    "    recognizer = sr.Recognizer()  # Initialize the speech recognizer\n",
    "\n",
    "    try:\n",
    "        # Load the audio file\n",
    "        with sr.AudioFile(audio_path) as source:\n",
    "            print(\"Loading audio file...\")\n",
    "            audio = recognizer.record(source)  # Read the entire audio file\n",
    "\n",
    "        # Perform speech recognition\n",
    "        print(\"Converting audio to text...\")\n",
    "        text = recognizer.recognize_google(audio)  # Use Google's speech-to-text\n",
    "        print(\"Text extracted successfully!\")\n",
    "        return text\n",
    "\n",
    "    except sr.UnknownValueError:\n",
    "        return \"Could not understand the audio.\"\n",
    "    except sr.RequestError as e:\n",
    "        return f\"Could not request results from Google Speech Recognition service; {e}\"\n",
    "\n",
    "# Main Execution\n",
    "video_file = \"input_video.mp4\"     # Path to your video file\n",
    "audio_file = \"output_audio.wav\"    # Path to save the extracted audio file\n",
    "\n",
    "# Step 1: Extract audio from video\n",
    "extract_audio(video_file, audio_file)\n",
    "\n",
    "# Step 2: Extract text from the audio\n",
    "text = audio_to_text(audio_file)\n",
    "print(\"Extracted Text:\", text)"
   ]
  }
 ],
 "metadata": {
  "kernelspec": {
   "display_name": "Python 3",
   "language": "python",
   "name": "python3"
  },
  "language_info": {
   "codemirror_mode": {
    "name": "ipython",
    "version": 3
   },
   "file_extension": ".py",
   "mimetype": "text/x-python",
   "name": "python",
   "nbconvert_exporter": "python",
   "pygments_lexer": "ipython3",
   "version": "3.13.1"
  }
 },
 "nbformat": 4,
 "nbformat_minor": 2
}
